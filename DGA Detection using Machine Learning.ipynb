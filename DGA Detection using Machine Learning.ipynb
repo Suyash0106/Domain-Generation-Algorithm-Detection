{
 "cells": [
  {
   "cell_type": "markdown",
   "metadata": {},
   "source": [
    "# DGA Detection using machine learning\n",
    "\n",
    "### Identification of domain names generated from Domain Generating Algorithms (DGAs)\n",
    "\n",
    "* **Author:** Suyash Sathe\n",
    "* **Date:** 11 December 2019\n",
    "* **Email:** suyash0106@outlook.com\n"
   ]
  },
  {
   "cell_type": "markdown",
   "metadata": {},
   "source": [
    "## Introduction\n",
    "\n",
    "DGA (**Domain Generating Algorithms**) is a technique used in computer malware programs to generate large number of domain names. These domain names are generated periodically out of which one is the address of the control server and is used to communicate with the command and control server. \n",
    "\n",
    "The objective of this analysis is to select the best machine learning model to predict the domain names that are generated from DGAs. In this analysis, a dataset containing approximately **130,000** domains names was explored and analysed to obtain the best set of features that are crucial for predicting the domain names generated from DGAs. These features are converted into vectorized format for the purpose of building machine learning models.\n",
    "\n",
    "This vectorized representation of features was then utilised to train 3 different classification models including Logistic Regression, Random Forest and SVM, and the performance of these models was evaluated based the accuracy score and the recall value. After comparing the models, the best model was utilised to predict the domain names that are generated from DGAs."
   ]
  },
  {
   "cell_type": "markdown",
   "metadata": {},
   "source": [
    "### Programming Language\n",
    "* Python 3.7 in Jupyter Notebook\n",
    "\n",
    "### Python Libraries Used\n",
    "* Pandas           \n",
    "* Sklearn          \n",
    "* Numpy       \n",
    "* Matplotlib    \n",
    "* pickle           \n",
    "* Seaborn\n",
    "\n",
    "### Note\n",
    "The packages used in this code file must be installed explicitly using \"pip\" if they are not already installed.\n",
    "\n",
    "**Syntax:** pip install *package name*"
   ]
  },
  {
   "cell_type": "markdown",
   "metadata": {},
   "source": [
    "# Import Libraries\n",
    "\n",
    "Load the following set of libraries and packages"
   ]
  },
  {
   "cell_type": "code",
   "execution_count": 50,
   "metadata": {},
   "outputs": [],
   "source": [
    "# EDA Packages\n",
    "import pandas as pd\n",
    "import numpy as np\n",
    "import seaborn as sns\n",
    "import matplotlib.pyplot as plt\n",
    "\n",
    "# Machine Learning Packages\n",
    "import pickle\n",
    "from sklearn.feature_extraction.text import CountVectorizer\n",
    "from sklearn.model_selection import train_test_split\n",
    "from sklearn.model_selection import cross_val_score\n",
    "from sklearn.metrics import accuracy_score, recall_score\n",
    "\n",
    "# SVM as the classifier\n",
    "from sklearn import svm\n",
    "\n",
    "# Random Forest as the classifier\n",
    "from sklearn.ensemble import RandomForestClassifier\n",
    "\n",
    "# Logistic Regression as the classifier\n",
    "from sklearn.linear_model import LogisticRegression, LogisticRegressionCV\n",
    "\n",
    "# Suppress warnings\n",
    "import warnings\n",
    "warnings.filterwarnings(\"ignore\")"
   ]
  },
  {
   "cell_type": "markdown",
   "metadata": {},
   "source": [
    "## Read the data\n",
    "\n",
    "Load the *dga_domains.csv* data from the following url and store it in the *urls_data* variable"
   ]
  },
  {
   "cell_type": "code",
   "execution_count": 13,
   "metadata": {},
   "outputs": [
    {
     "data": {
      "text/html": [
       "<div>\n",
       "<style scoped>\n",
       "    .dataframe tbody tr th:only-of-type {\n",
       "        vertical-align: middle;\n",
       "    }\n",
       "\n",
       "    .dataframe tbody tr th {\n",
       "        vertical-align: top;\n",
       "    }\n",
       "\n",
       "    .dataframe thead th {\n",
       "        text-align: right;\n",
       "    }\n",
       "</style>\n",
       "<table border=\"1\" class=\"dataframe\">\n",
       "  <thead>\n",
       "    <tr style=\"text-align: right;\">\n",
       "      <th></th>\n",
       "      <th>host</th>\n",
       "      <th>domain</th>\n",
       "      <th>class</th>\n",
       "      <th>subclass</th>\n",
       "    </tr>\n",
       "  </thead>\n",
       "  <tbody>\n",
       "    <tr>\n",
       "      <th>0</th>\n",
       "      <td>000directory.com.ar</td>\n",
       "      <td>000directory</td>\n",
       "      <td>legit</td>\n",
       "      <td>legit</td>\n",
       "    </tr>\n",
       "    <tr>\n",
       "      <th>1</th>\n",
       "      <td>000webhost.com</td>\n",
       "      <td>000webhost</td>\n",
       "      <td>legit</td>\n",
       "      <td>legit</td>\n",
       "    </tr>\n",
       "    <tr>\n",
       "      <th>2</th>\n",
       "      <td>001fans.com</td>\n",
       "      <td>001fans</td>\n",
       "      <td>legit</td>\n",
       "      <td>legit</td>\n",
       "    </tr>\n",
       "    <tr>\n",
       "      <th>3</th>\n",
       "      <td>01-telecharger.com</td>\n",
       "      <td>01-telecharger</td>\n",
       "      <td>legit</td>\n",
       "      <td>legit</td>\n",
       "    </tr>\n",
       "    <tr>\n",
       "      <th>4</th>\n",
       "      <td>010shangpu.com</td>\n",
       "      <td>010shangpu</td>\n",
       "      <td>legit</td>\n",
       "      <td>legit</td>\n",
       "    </tr>\n",
       "  </tbody>\n",
       "</table>\n",
       "</div>"
      ],
      "text/plain": [
       "                  host          domain  class subclass\n",
       "0  000directory.com.ar    000directory  legit    legit\n",
       "1       000webhost.com      000webhost  legit    legit\n",
       "2          001fans.com         001fans  legit    legit\n",
       "3   01-telecharger.com  01-telecharger  legit    legit\n",
       "4       010shangpu.com      010shangpu  legit    legit"
      ]
     },
     "execution_count": 13,
     "metadata": {},
     "output_type": "execute_result"
    }
   ],
   "source": [
    "# Load Url Data \n",
    "urls_data = pd.read_csv(\"https://datasci-test.s3-ap-southeast-2.amazonaws.com/dga_domains.csv\")\n",
    "\n",
    "# Check the first few elements of the dataset\n",
    "urls_data.head()"
   ]
  },
  {
   "cell_type": "markdown",
   "metadata": {},
   "source": [
    "Separate the data into predictors and the target variable."
   ]
  },
  {
   "cell_type": "code",
   "execution_count": 19,
   "metadata": {},
   "outputs": [],
   "source": [
    "# Labels\n",
    "y = urls_data[\"class\"]\n",
    "\n",
    "# Predictors\n",
    "url_list = urls_data[\"host\"]"
   ]
  },
  {
   "cell_type": "markdown",
   "metadata": {},
   "source": [
    "## Data Exploration"
   ]
  },
  {
   "cell_type": "markdown",
   "metadata": {},
   "source": [
    "Check the dimensionality of the dataset. This dataset has 133926 rows and 4 columns."
   ]
  },
  {
   "cell_type": "code",
   "execution_count": 114,
   "metadata": {},
   "outputs": [
    {
     "data": {
      "text/plain": [
       "(133926, 5)"
      ]
     },
     "execution_count": 114,
     "metadata": {},
     "output_type": "execute_result"
    }
   ],
   "source": [
    "# Check the dimensions of the dataset\n",
    "urls_data.shape"
   ]
  },
  {
   "cell_type": "markdown",
   "metadata": {},
   "source": [
    "Get the statistical details of the urls data."
   ]
  },
  {
   "cell_type": "code",
   "execution_count": 12,
   "metadata": {},
   "outputs": [
    {
     "data": {
      "text/html": [
       "<div>\n",
       "<style scoped>\n",
       "    .dataframe tbody tr th:only-of-type {\n",
       "        vertical-align: middle;\n",
       "    }\n",
       "\n",
       "    .dataframe tbody tr th {\n",
       "        vertical-align: top;\n",
       "    }\n",
       "\n",
       "    .dataframe thead th {\n",
       "        text-align: right;\n",
       "    }\n",
       "</style>\n",
       "<table border=\"1\" class=\"dataframe\">\n",
       "  <thead>\n",
       "    <tr style=\"text-align: right;\">\n",
       "      <th></th>\n",
       "      <th>host</th>\n",
       "      <th>domain</th>\n",
       "      <th>class</th>\n",
       "      <th>subclass</th>\n",
       "    </tr>\n",
       "  </thead>\n",
       "  <tbody>\n",
       "    <tr>\n",
       "      <th>count</th>\n",
       "      <td>133926</td>\n",
       "      <td>133926</td>\n",
       "      <td>133926</td>\n",
       "      <td>133926</td>\n",
       "    </tr>\n",
       "    <tr>\n",
       "      <th>unique</th>\n",
       "      <td>133926</td>\n",
       "      <td>114525</td>\n",
       "      <td>2</td>\n",
       "      <td>4</td>\n",
       "    </tr>\n",
       "    <tr>\n",
       "      <th>top</th>\n",
       "      <td>drhorton.com</td>\n",
       "      <td>provincia</td>\n",
       "      <td>legit</td>\n",
       "      <td>legit</td>\n",
       "    </tr>\n",
       "    <tr>\n",
       "      <th>freq</th>\n",
       "      <td>1</td>\n",
       "      <td>47</td>\n",
       "      <td>81261</td>\n",
       "      <td>81261</td>\n",
       "    </tr>\n",
       "  </tbody>\n",
       "</table>\n",
       "</div>"
      ],
      "text/plain": [
       "                host     domain   class subclass\n",
       "count         133926     133926  133926   133926\n",
       "unique        133926     114525       2        4\n",
       "top     drhorton.com  provincia   legit    legit\n",
       "freq               1         47   81261    81261"
      ]
     },
     "execution_count": 12,
     "metadata": {},
     "output_type": "execute_result"
    }
   ],
   "source": [
    "# Get a summary of statistics of the data\n",
    "urls_data.describe()"
   ]
  },
  {
   "cell_type": "markdown",
   "metadata": {},
   "source": [
    "Get the unique values of the \"class\" column."
   ]
  },
  {
   "cell_type": "code",
   "execution_count": 115,
   "metadata": {},
   "outputs": [
    {
     "data": {
      "text/plain": [
       "array(['legit', 'dga'], dtype=object)"
      ]
     },
     "execution_count": 115,
     "metadata": {},
     "output_type": "execute_result"
    }
   ],
   "source": [
    "urls_data[\"class\"].unique()"
   ]
  },
  {
   "cell_type": "markdown",
   "metadata": {},
   "source": [
    "Get the unique values of the \"subclass\" column."
   ]
  },
  {
   "cell_type": "code",
   "execution_count": 92,
   "metadata": {},
   "outputs": [
    {
     "data": {
      "text/plain": [
       "array(['legit', 'newgoz', 'cryptolocker', 'goz'], dtype=object)"
      ]
     },
     "execution_count": 92,
     "metadata": {},
     "output_type": "execute_result"
    }
   ],
   "source": [
    "urls_data[\"subclass\"].unique()"
   ]
  },
  {
   "cell_type": "markdown",
   "metadata": {},
   "source": [
    "Checking for null values in the dataset, there are 0 null values in this dataset."
   ]
  },
  {
   "cell_type": "code",
   "execution_count": 11,
   "metadata": {},
   "outputs": [
    {
     "data": {
      "text/plain": [
       "host        0\n",
       "domain      0\n",
       "class       0\n",
       "subclass    0\n",
       "dtype: int64"
      ]
     },
     "execution_count": 11,
     "metadata": {},
     "output_type": "execute_result"
    }
   ],
   "source": [
    "# Check for null values\n",
    "urls_data.isnull().sum()"
   ]
  },
  {
   "cell_type": "markdown",
   "metadata": {},
   "source": [
    "Check how the host name compares across legitimate and DGA generated domain names."
   ]
  },
  {
   "cell_type": "code",
   "execution_count": 7,
   "metadata": {},
   "outputs": [
    {
     "name": "stdout",
     "output_type": "stream",
     "text": [
      "<<<<<<<< DGA >>>>>>>>>\n",
      "count                              52665\n",
      "unique                             52665\n",
      "top       a67hdl5r700e18b9vgj1ntfuar.biz\n",
      "freq                                   1\n",
      "Name: host, dtype: object\n",
      "\n",
      "<<<<<<<< LEGIT >>>>>>>>>\n",
      "count                81261\n",
      "unique               81261\n",
      "top       motorsport.co.za\n",
      "freq                     1\n",
      "Name: host, dtype: object\n"
     ]
    }
   ],
   "source": [
    "print (\"<<<<<<<< DGA >>>>>>>>>\")\n",
    "print (urls_data.host[urls_data[\"class\"] == \"dga\"].describe())\n",
    "print ()\n",
    "print (\"<<<<<<<< LEGIT >>>>>>>>>\")\n",
    "print (urls_data.host[urls_data[\"class\"] == \"legit\"].describe())"
   ]
  },
  {
   "cell_type": "markdown",
   "metadata": {},
   "source": [
    "#### Distribution of length of the domain names\n",
    "\n",
    "It can be clearly observed from the distribution of URL lengths that the distribution of length of legitimate URLs is right skewed. That is legitimate URLs are of short length typically 10-20 characters. As the length of the URL increases beyond 20 characters, the probability of it being generated by a DGA becomes more.\n",
    "\n",
    "The above hypothesis is supported by the distribution of the length of DGA host names. It can be observed from the below graph that the length of DGA generated domain names is symmetrically distributed around the length of 30 characters. This indicates that if the length of the URL is around 30 characters, then it is highly likely generated using a DGA. However, this is not always true since there are a significant number of URLs whose length is between 15-20 characters."
   ]
  },
  {
   "cell_type": "code",
   "execution_count": 14,
   "metadata": {},
   "outputs": [
    {
     "data": {
      "image/png": "[encoded data removed]",
      "text/plain": [
       "<Figure size 864x288 with 2 Axes>"
      ]
     },
     "metadata": {
      "needs_background": "light"
     },
     "output_type": "display_data"
    }
   ],
   "source": [
    "urls_data['URLLength'] = urls_data['host'].apply(len)\n",
    "\n",
    "f, (ax1, ax2) = plt.subplots(2, 1, sharex=True, figsize=(12,4))\n",
    "\n",
    "bins = 20\n",
    "\n",
    "ax1.hist(urls_data['URLLength'][urls_data['class'] == \"dga\"], bins = bins)\n",
    "ax1.set_title('DGA')\n",
    "\n",
    "ax2.hist(urls_data['URLLength'][urls_data['class'] == \"legit\"], bins = bins)\n",
    "ax2.set_title('Legit')\n",
    "\n",
    "plt.xlabel('Length of URLs')\n",
    "plt.ylabel('Number of URLs')\n",
    "plt.show()"
   ]
  },
  {
   "cell_type": "markdown",
   "metadata": {},
   "source": [
    "## Data Vectorization\n",
    "\n",
    "The first step in the data vectorization process is to tokenize the data. Since the *domain* column of the *dga_domains* columns miss the vital information including the domain extension (.com, .net, etc.) which may be necessary to detect the DGA, the following customised function *makeTokens* is defined to tokenize the URL into the components split by \"/\", \"-\" and \".\" if present in the URL. This tokenizer is used in the *CountVectorizer* object to represent the features into vectorized format. It also removes unnecessary tokens like \".com\" which may become redundant features if used to train model."
   ]
  },
  {
   "cell_type": "code",
   "execution_count": 22,
   "metadata": {},
   "outputs": [],
   "source": [
    "# Function to tokenize the URL\n",
    "def makeTokens(f):\n",
    "    \n",
    "    # make tokens after splitting by slash\n",
    "    tkns_BySlash = f.split('/')\n",
    "    \n",
    "    # Create a list to store the tokenized data\n",
    "    total_Tokens = []\n",
    "    \n",
    "    for i in tkns_BySlash:\n",
    "        \n",
    "        # make tokens after splitting by dash\n",
    "        tokens = str(i).split('-')\n",
    "        \n",
    "        # Create a list to store the tokens split by dot\n",
    "        tkns_ByDot = []\n",
    "        \n",
    "        for j in range(0,len(tokens)):\n",
    "            \n",
    "            # make tokens after splitting by dot\n",
    "            temp_Tokens = str(tokens[j]).split('.')\n",
    "            \n",
    "            tkns_ByDot = tkns_ByDot + temp_Tokens\n",
    "            \n",
    "        total_Tokens = total_Tokens + tokens + tkns_ByDot\n",
    "    \n",
    "    #remove redundant tokens\n",
    "    total_Tokens = list(set(total_Tokens))\n",
    "    \n",
    "    #removing .com since it occurs a lot of times and it should not be included in our features\n",
    "    if 'com' in total_Tokens:\n",
    "        total_Tokens.remove('com')\n",
    "        \n",
    "    return total_Tokens"
   ]
  },
  {
   "cell_type": "markdown",
   "metadata": {},
   "source": [
    "Test the tokenization of \"100xuexi.net\""
   ]
  },
  {
   "cell_type": "code",
   "execution_count": 112,
   "metadata": {},
   "outputs": [
    {
     "data": {
      "text/plain": [
       "['100xuexi', '100xuexi.net', 'net']"
      ]
     },
     "execution_count": 112,
     "metadata": {},
     "output_type": "execute_result"
    }
   ],
   "source": [
    "test_url = \"100xuexi.net\"\n",
    "makeTokens(test_url)"
   ]
  },
  {
   "cell_type": "markdown",
   "metadata": {},
   "source": [
    "Test the tokenization of \"100bestbuy.com\" and verify the tokens should not contain \"com\" as token"
   ]
  },
  {
   "cell_type": "code",
   "execution_count": 113,
   "metadata": {},
   "outputs": [
    {
     "data": {
      "text/plain": [
       "['100bestbuy', '100bestbuy.com']"
      ]
     },
     "execution_count": 113,
     "metadata": {},
     "output_type": "execute_result"
    }
   ],
   "source": [
    "test_url = \"100bestbuy.com\"\n",
    "makeTokens(test_url)"
   ]
  },
  {
   "cell_type": "markdown",
   "metadata": {},
   "source": [
    "Another important step is to convert the word tokens into vectorized form for the machine learning algorithm to use these vectors easily for processing. Here, *CountVectorizer* is used to convert the extracted features into vectorized format. In this project, we are are using a custom tokenizer."
   ]
  },
  {
   "cell_type": "code",
   "execution_count": 25,
   "metadata": {},
   "outputs": [],
   "source": [
    "# Using Custom Tokenizer\n",
    "vectorizer = CountVectorizer(tokenizer=makeTokens)\n",
    "\n",
    "# Using Default Tokenizer\n",
    "# vectorizer = CountVectorizer()"
   ]
  },
  {
   "cell_type": "markdown",
   "metadata": {},
   "source": [
    "For convenience, the familiar term *X* is used to represent the input vector"
   ]
  },
  {
   "cell_type": "code",
   "execution_count": 26,
   "metadata": {},
   "outputs": [],
   "source": [
    "# Store vectors into X variable as Our XFeatures\n",
    "X = vectorizer.fit_transform(url_list)"
   ]
  },
  {
   "cell_type": "markdown",
   "metadata": {},
   "source": [
    "## Training and Testing Data\n",
    "\n",
    "Sklearn's **train_test_split** function is used to split the data into training set and testing set. The data is split in the ratio of 8:2 where training data is 80% while testing data is 20%.\n",
    "\n",
    "*X_train* and *y_train* represents the training set while *X_test* and *y_test* represents the testing set."
   ]
  },
  {
   "cell_type": "code",
   "execution_count": 27,
   "metadata": {},
   "outputs": [],
   "source": [
    "# Split the data into training set and testing set\n",
    "X_train, X_test, y_train, y_test = train_test_split(X, y, test_size=0.2, random_state=42)"
   ]
  },
  {
   "cell_type": "markdown",
   "metadata": {},
   "source": [
    "## Model Development\n",
    "\n",
    "The vectorized representation of the data is  utilised for the development of model. In this\n",
    "section 3 types of models are developed including:\n",
    "\n",
    "• Logistic Regression Model\n",
    "\n",
    "• Random Forest Model\n",
    "\n",
    "• SVM Model"
   ]
  },
  {
   "cell_type": "markdown",
   "metadata": {},
   "source": [
    "### Logistic Regression Model\n",
    "\n",
    "An instance of the logistic regression model is created and fed with the sparse vector word representation of the labeled training dataset in the form of *CountVector* sparse matrix. This model is used to predict the labels of test dataset *X_test* and the results are recorded. Finally the accuracy of the model is recorded using the *score* function of the *sklearn* library. It is recorded that this model gives an accuracy of 0.916 indicating 92% of the times the model predicts the target variable correctly."
   ]
  },
  {
   "cell_type": "code",
   "execution_count": 32,
   "metadata": {},
   "outputs": [],
   "source": [
    "# Model Building using logistic Regression\n",
    "logit = LogisticRegression()\n",
    "logit.fit(X_train, y_train)\n",
    "y_pred_logit = logit.predict(X_test)"
   ]
  },
  {
   "cell_type": "code",
   "execution_count": 29,
   "metadata": {},
   "outputs": [
    {
     "name": "stdout",
     "output_type": "stream",
     "text": [
      "Accuracy of Logistic Regression Model is  0.9156648995744046\n"
     ]
    }
   ],
   "source": [
    "# Accuracy of logit model\n",
    "print(\"Accuracy of Logistic Regression Model is \",logit.score(X_test, y_test))"
   ]
  },
  {
   "cell_type": "markdown",
   "metadata": {},
   "source": [
    "#### Cross validation on Logistic Regression Model\n",
    "To generalize the model about the sample data point estimation, 10-fold cross validation is performed in the below step. This improves the generalization of the model, prevents overfitting and usually improves the accuracy when the model is deployed in the production environment.\n",
    "\n",
    "The average accuracy recorded using 10-fold cross validation is 0.905. This is very close to the accuracy obtained using the traditional 80-20 split indicating that the dataset is evenly distributed. Since the data is evenly distributed and cross-validation is computationally expensive, it is feasible to use 80-20  train-test split."
   ]
  },
  {
   "cell_type": "code",
   "execution_count": 30,
   "metadata": {},
   "outputs": [
    {
     "name": "stdout",
     "output_type": "stream",
     "text": [
      "Average accuracy of Logistic Regression Model is  0.9048983739640828\n"
     ]
    }
   ],
   "source": [
    "lr_cv = cross_val_score(LogisticRegression(), X, y, cv=10)\n",
    "mean_lr_cv = np.mean(lr_cv)\n",
    "\n",
    "print(\"Average accuracy of Logistic Regression Model is \", mean_lr_cv)"
   ]
  },
  {
   "cell_type": "markdown",
   "metadata": {},
   "source": [
    "#### Recall value of Logistic Regression Model\n",
    "\n",
    "An important consideration in building an appropriate ML model for predicting the DGA generated domain names is minimising the number of *False Negatives*. In this scenario, *False Negatives* are the number of domain names that are incorrectly predicted as legitimate (non-DGA domain name) by the model.\n",
    "\n",
    "*Recall* tells us what proportion of domain names that were actually generated from DGA were detected correctly by the algorithm. Therefore, the *recall* of a  desirable model will be as close to 100% as possible."
   ]
  },
  {
   "cell_type": "code",
   "execution_count": 64,
   "metadata": {},
   "outputs": [
    {
     "name": "stdout",
     "output_type": "stream",
     "text": [
      "Recall value of Logistic Regression Model is  0.9093286813393757\n"
     ]
    }
   ],
   "source": [
    "print(\"Recall value of Logistic Regression Model is \", recall_score(y_test, y_pred_logit, average=\"macro\"))"
   ]
  },
  {
   "cell_type": "markdown",
   "metadata": {},
   "source": [
    "#### Save the model\n",
    "\n",
    "Save the trained model in a separate file on the disk."
   ]
  },
  {
   "cell_type": "code",
   "execution_count": 116,
   "metadata": {},
   "outputs": [],
   "source": [
    "# Uncomment the below code to save the trained model in a separate file on the disk.\n",
    "\n",
    "# filename = 'logit_model.sav'\n",
    "# pickle.dump(logit, open(filename, 'wb'))"
   ]
  },
  {
   "cell_type": "markdown",
   "metadata": {},
   "source": [
    "## Random Forest Model\n",
    "\n",
    "Random Forest is another machine learning algorithm for performing classification tasks. In this step, a Random Forest model with default parameters is implemented on the training set. The default number of trees in this case is 10. The accuracy obtained using this model is very close, however, slightly less that the logistic regression model."
   ]
  },
  {
   "cell_type": "code",
   "execution_count": 36,
   "metadata": {},
   "outputs": [],
   "source": [
    "rf = RandomForestClassifier()\n",
    "rf.fit(X_train, y_train)\n",
    "y_pred_rf = rf.predict(X_test)"
   ]
  },
  {
   "cell_type": "code",
   "execution_count": 37,
   "metadata": {},
   "outputs": [
    {
     "name": "stdout",
     "output_type": "stream",
     "text": [
      "Accuracy of Random Forest Model is  0.9107369521391772\n"
     ]
    }
   ],
   "source": [
    "print(\"Accuracy of Random Forest Model is \",rf.score(X_test, y_test))"
   ]
  },
  {
   "cell_type": "markdown",
   "metadata": {},
   "source": [
    "#### Cross validation on Random Forest Model\n",
    "\n",
    "This step is computationally expensive and is performed just for the purpose of experimentation. The average accuracy of *random forest classifier* (.903) is also very close to that of the average accuracy of the logistic regression model.\n",
    "\n",
    "**Note:** This block of code takes approximately 3 hours to run on a Windows machine."
   ]
  },
  {
   "cell_type": "code",
   "execution_count": 38,
   "metadata": {},
   "outputs": [
    {
     "name": "stdout",
     "output_type": "stream",
     "text": [
      "Average accuracy of Random Forest Model is  0.9028375859106459\n"
     ]
    }
   ],
   "source": [
    "rf_cv = cross_val_score(RandomForestClassifier(), X, y, cv=10)\n",
    "mean_rf_cv = np.mean(rf_cv)\n",
    "\n",
    "print(\"Average accuracy of Random Forest Model is \", mean_rf_cv)"
   ]
  },
  {
   "cell_type": "markdown",
   "metadata": {},
   "source": [
    "#### Recall value of Random Forest Model"
   ]
  },
  {
   "cell_type": "code",
   "execution_count": 39,
   "metadata": {},
   "outputs": [
    {
     "name": "stdout",
     "output_type": "stream",
     "text": [
      "Recall value of Random Forest Model is  0.8961672727660649\n"
     ]
    }
   ],
   "source": [
    "print(\"Recall value of Random Forest Model is \", recall_score(y_test, y_pred_rf, average=\"macro\"))"
   ]
  },
  {
   "cell_type": "markdown",
   "metadata": {},
   "source": [
    "#### Save the model\n",
    "\n",
    "Save the trained model in a separate file on the disk."
   ]
  },
  {
   "cell_type": "code",
   "execution_count": 117,
   "metadata": {},
   "outputs": [],
   "source": [
    "# Uncomment the below code to save the trained model in a separate file on the disk.\n",
    "\n",
    "# filename = 'rf_model.sav'\n",
    "# pickle.dump(rf, open(filename, 'wb'))"
   ]
  },
  {
   "cell_type": "markdown",
   "metadata": {},
   "source": [
    "## SVM Model\n",
    "\n",
    "Support Vector Machine (SVM) is a linear model for classification which creates a hyperplane in an n-dimensional space to separate the data for each class. This model is trained on the training dataset to create the linear hyperplane boundaries for each class in the entire corpus of the data set. The kernel type used in this model is *linear* assuming the data is linearly separable. \n",
    "\n",
    "It is observed that this model yields the best accuracy and recall score. It is as memory efficient as logistic regression, and less sensitive to outliers than the logistic regression model. However, SVM solves the *quadratic programming problem* (QP) to find a separation hyperplane and this is computationally very intensive. Eventhough this model yields the best results, this model is not the most suitable when the dataset has large number of samples.\n",
    "\n",
    "Please note that this step is computationally expensive and takes approximately 1 hour to train the model on a Windows machine."
   ]
  },
  {
   "cell_type": "code",
   "execution_count": 41,
   "metadata": {},
   "outputs": [],
   "source": [
    "# Perform classification with SVM with a linear kernel\n",
    "svm_model = svm.SVC(kernel='linear')\n",
    "svm_model.fit(X_train, y_train)\n",
    "y_pred_svm = svm_model.predict(X_test)"
   ]
  },
  {
   "cell_type": "code",
   "execution_count": 74,
   "metadata": {},
   "outputs": [
    {
     "name": "stdout",
     "output_type": "stream",
     "text": [
      "Accuracy of SVM Model is  0.9191368625401329\n"
     ]
    }
   ],
   "source": [
    "# get the accuracy\n",
    "print(\"Accuracy of SVM Model is \", svm_model.score(X_test, y_test))"
   ]
  },
  {
   "cell_type": "markdown",
   "metadata": {},
   "source": [
    "#### Recall value of SVM Model"
   ]
  },
  {
   "cell_type": "code",
   "execution_count": 63,
   "metadata": {},
   "outputs": [
    {
     "name": "stdout",
     "output_type": "stream",
     "text": [
      "Recall value of SVM Model is  0.9122006472463611\n"
     ]
    }
   ],
   "source": [
    "print(\"Recall value of SVM Model is \", recall_score(y_test, y_pred_svm, average=\"macro\"))"
   ]
  },
  {
   "cell_type": "markdown",
   "metadata": {},
   "source": [
    "#### Save the model\n",
    "\n",
    "Save the trained model in a separate file on the disk."
   ]
  },
  {
   "cell_type": "code",
   "execution_count": 91,
   "metadata": {},
   "outputs": [],
   "source": [
    "# Uncomment the below code to save the trained model in a separate file on the disk.\n",
    "\n",
    "# filename = 'svm_model.sav'\n",
    "# pickle.dump(svm_model, open(filename, 'wb'))"
   ]
  },
  {
   "cell_type": "markdown",
   "metadata": {},
   "source": [
    "# Multiclass Logistic Regression Model\n",
    "\n",
    "From the above results, it is learned that the traditional machine learning methods all perform in almost the same range. Since logistic regression offers an easy to implement and highly generalizable approach, this approach is also used to solve the multi-class classification problem of predicting the DGA subclasses."
   ]
  },
  {
   "cell_type": "markdown",
   "metadata": {},
   "source": [
    "Store the subclass target variable separately"
   ]
  },
  {
   "cell_type": "code",
   "execution_count": 75,
   "metadata": {},
   "outputs": [],
   "source": [
    "# Sub class labels\n",
    "y_subclass = urls_data[\"subclass\"]"
   ]
  },
  {
   "cell_type": "markdown",
   "metadata": {},
   "source": [
    "Using the new target variable, create new train-test split. From the above analysis, the data is fairly distributed. Hence, we will stick to the 80-20 split instead of cross validation approach."
   ]
  },
  {
   "cell_type": "code",
   "execution_count": 83,
   "metadata": {},
   "outputs": [],
   "source": [
    "# Split the data into training set and testing set\n",
    "X_train, X_test, y_subclass_train, y_subclass_test = train_test_split(X, y_subclass, test_size=0.2, random_state=42)"
   ]
  },
  {
   "cell_type": "markdown",
   "metadata": {},
   "source": [
    "A similar instance of logistic instance is created but this time for multiclass classification. Since this is a multiclass classification problem, the *solver* used in this model is **saga**"
   ]
  },
  {
   "cell_type": "code",
   "execution_count": 84,
   "metadata": {},
   "outputs": [],
   "source": [
    "subclass_logit = LogisticRegression(random_state=0, solver='saga', multi_class='multinomial', verbose=2)"
   ]
  },
  {
   "cell_type": "code",
   "execution_count": 85,
   "metadata": {},
   "outputs": [
    {
     "name": "stderr",
     "output_type": "stream",
     "text": [
      "[Parallel(n_jobs=1)]: Using backend SequentialBackend with 1 concurrent workers.\n"
     ]
    },
    {
     "name": "stdout",
     "output_type": "stream",
     "text": [
      "max_iter reached after 12 seconds\n"
     ]
    },
    {
     "name": "stderr",
     "output_type": "stream",
     "text": [
      "[Parallel(n_jobs=1)]: Done   1 out of   1 | elapsed:   12.2s remaining:    0.0s\n",
      "[Parallel(n_jobs=1)]: Done   1 out of   1 | elapsed:   12.2s finished\n"
     ]
    }
   ],
   "source": [
    "# Fit the model on the training data\n",
    "subclass_logit_model = subclass_logit.fit(X_train, y_subclass_train)"
   ]
  },
  {
   "cell_type": "code",
   "execution_count": 89,
   "metadata": {},
   "outputs": [
    {
     "name": "stdout",
     "output_type": "stream",
     "text": [
      "Accuracy of the multiclass Logistic Regression Model for predicting the subclass is 0.8616814753975958\n"
     ]
    }
   ],
   "source": [
    "print(\"Accuracy of the multiclass Logistic Regression Model for predicting the subclass is\", subclass_logit_model.score(X_test, y_subclass_test))"
   ]
  },
  {
   "cell_type": "markdown",
   "metadata": {},
   "source": [
    "#### Save the model\n",
    "\n",
    "Save the trained model in a separate file on the disk. This model is used to predict the subclass of the domain names."
   ]
  },
  {
   "cell_type": "code",
   "execution_count": 118,
   "metadata": {},
   "outputs": [],
   "source": [
    "# Uncomment the below code to save the trained model in a separate file on the disk.\n",
    "# filename = 'multiclass_logit_model.sav'\n",
    "# pickle.dump(subclass_logit_model, open(filename, 'wb'))"
   ]
  },
  {
   "cell_type": "markdown",
   "metadata": {},
   "source": [
    "# Conclusion\n",
    "\n",
    "From the above results and the overall attempt at identification of the domain names generated from Domain Generating Algorithms (DGAs), it is learned that the traditional machine learning methods all perform in almost the same range. Though SVM is a suitable classifier for such type of problems with high dimensional vector spaces, it is computationally quite expensive over a large sample of dataset and logistic regression offers an easy to implement and highly generalizable approach. Hence, logistic regression model is a more suitable model for this classification problem."
   ]
  }
 ],
 "metadata": {
  "kernelspec": {
   "display_name": "Python 3",
   "language": "python",
   "name": "python3"
  },
  "language_info": {
   "codemirror_mode": {
    "name": "ipython",
    "version": 3
   },
   "file_extension": ".py",
   "mimetype": "text/x-python",
   "name": "python",
   "nbconvert_exporter": "python",
   "pygments_lexer": "ipython3",
   "version": "3.7.1"
  }
 },
 "nbformat": 4,
 "nbformat_minor": 2
}
